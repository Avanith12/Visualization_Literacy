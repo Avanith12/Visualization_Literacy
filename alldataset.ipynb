{
 "cells": [
  {
   "cell_type": "markdown",
   "id": "cfc690e6",
   "metadata": {},
   "source": [
    "## 1. Explore dataset"
   ]
  },
  {
   "cell_type": "code",
   "execution_count": 23,
   "id": "680feb4a",
   "metadata": {},
   "outputs": [
    {
     "name": "stdout",
     "output_type": "stream",
     "text": [
      "The number of rows in the data is 3640\n",
      "The number of columns in the data is 33\n",
      "The column names in the data are Index(['Unnamed: 0', 'dataset', 'question', 'answer', 'question_type',\n",
      "       'referential_title', 'filename', 'dataset_100_stacked_bar_data.csv',\n",
      "       'dataset_area_data.csv', 'dataset_bar_data.csv',\n",
      "       'dataset_histogram_data.csv', 'dataset_line_data.csv',\n",
      "       'dataset_pie_data.csv', 'dataset_scatterplot_data.csv',\n",
      "       'dataset_stacked_area_data.csv', 'dataset_stacked_bar_data.csv',\n",
      "       'plot_type_bar', 'plot_type_hist', 'plot_type_line', 'plot_type_pie',\n",
      "       'plot_type_scatter', 'plot_type_stacked_bar',\n",
      "       'plot_type_stacked_bar_100', 'color_black', 'color_burlywood',\n",
      "       'color_chartreuse', 'color_lightgray', 'color_lightpink',\n",
      "       'color_mediumvioletred', 'color_navy', 'color_red', 'color_saddlebrown',\n",
      "       'color_tomato'],\n",
      "      dtype='object')\n",
      "Number of rows for each chart type:\n",
      "plot_type_scatter            960\n",
      "plot_type_bar                920\n",
      "plot_type_line               640\n",
      "plot_type_stacked_bar        440\n",
      "plot_type_stacked_bar_100    360\n",
      "plot_type_hist               200\n",
      "plot_type_pie                120\n",
      "dtype: int64\n"
     ]
    }
   ],
   "source": [
    "import pandas as pd\n",
    "\n",
    "data = pd.read_csv('vlat_ex.csv')\n",
    "\n",
    "#1. Check the number of rows in the data\n",
    "no_of_rows = len(data)\n",
    "\n",
    "print(f'The number of rows in the data is {no_of_rows}')\n",
    "\n",
    "#2. Check the number of columns in the data\n",
    "\n",
    "no_of_columns = len(data.columns)\n",
    "print(f'The number of columns in the data is {no_of_columns}')\n",
    "\n",
    "#3. check the column names in the data\n",
    "columns_name = data.columns\n",
    "print(f'The column names in the data are {columns_name}')\n",
    "\n",
    "# Count how many rows per plot type\n",
    "plot_type_cols = [col for col in data.columns if col.startswith(\"plot_type_\")]\n",
    "plot_type_counts = data[plot_type_cols].sum().sort_values(ascending=False)\n",
    "\n",
    "print(\"Number of rows for each chart type:\")\n",
    "\n",
    "print(plot_type_counts)\n",
    "\n"
   ]
  }
 ],
 "metadata": {
  "kernelspec": {
   "display_name": "Python 3",
   "language": "python",
   "name": "python3"
  },
  "language_info": {
   "codemirror_mode": {
    "name": "ipython",
    "version": 3
   },
   "file_extension": ".py",
   "mimetype": "text/x-python",
   "name": "python",
   "nbconvert_exporter": "python",
   "pygments_lexer": "ipython3",
   "version": "3.9.6"
  }
 },
 "nbformat": 4,
 "nbformat_minor": 5
}
