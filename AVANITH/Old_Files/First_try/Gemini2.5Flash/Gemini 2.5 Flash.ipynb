{
 "cells": [
  {
   "cell_type": "code",
   "execution_count": 1,
   "id": "2850a318",
   "metadata": {},
   "outputs": [
    {
     "name": "stdout",
     "output_type": "stream",
     "text": [
      "Running Gemini 2.5 Flash - Attempt 1\n",
      "Run 1 Response: $37.04 - $60.95\n",
      "Running Gemini 2.5 Flash - Attempt 2\n",
      "Run 2 Response: $37.04 - $60.95\n",
      "Running Gemini 2.5 Flash - Attempt 3\n",
      "Run 3 Response: $37.04 - $60.95\n",
      "\n",
      "✅ All results saved to: gemini_2.5_flash_output.csv\n"
     ]
    }
   ],
   "source": [
    "import google.generativeai as genai\n",
    "from dotenv import load_dotenv\n",
    "import os\n",
    "from PIL import Image\n",
    "import time\n",
    "import csv\n",
    "from datetime import datetime\n",
    "\n",
    "# Load .env API key\n",
    "load_dotenv(\"C:/Users/kanam/OneDrive/Desktop/Visualization_Literacy/Visualization_Literacy/Avanith/.env\")\n",
    "api_key = os.getenv(\"api_key\")\n",
    "if not api_key:\n",
    "    raise ValueError(\"API key not found in .env file\")\n",
    "\n",
    "# Configure Gemini\n",
    "genai.configure(api_key=api_key)\n",
    "model = genai.GenerativeModel(\"gemini-2.5-flash\")\n",
    "\n",
    "# Image path and prompt\n",
    "image_path = \"C:/Users/kanam/OneDrive/Desktop/Visualization_Literacy/Visualization_Literacy/line_chart_dataset/grouped_by_type/Determine_Range/Q81_img1_Red.png\"\n",
    "img = Image.open(image_path)\n",
    "\n",
    "prompt = \"What was the price range of a barrel of oil in 2015? Options: $35 - $65, $48.36 - $60.95, $37.04 - $48.36, $37.04 - $60.95, Omit. Don't give explanation, just pick one option.\"\n",
    "\n",
    "# CSV file setup\n",
    "csv_filename = \"gemini_2.5_flash_output.csv\"\n",
    "with open(csv_filename, mode=\"w\", newline=\"\", encoding=\"utf-8\") as file:\n",
    "    writer = csv.writer(file)\n",
    "    writer.writerow([\"Run\", \"Timestamp\", \"Response\"])\n",
    "\n",
    "    for i in range(1, 4):\n",
    "        print(f\"Running Gemini 2.5 Flash - Attempt {i}\")\n",
    "        try:\n",
    "            response = model.generate_content([prompt, img])\n",
    "            response_text = response.text.strip()\n",
    "        except Exception as e:\n",
    "            response_text = f\"Error: {e}\"\n",
    "\n",
    "        timestamp = datetime.now().strftime(\"%Y-%m-%d %H:%M:%S\")\n",
    "        writer.writerow([i, timestamp, response_text])\n",
    "        print(f\"Run {i} Response: {response_text}\")\n",
    "\n",
    "        if i < 3:\n",
    "            time.sleep(6)\n",
    "\n",
    "print(f\"\\n✅ All results saved to: {csv_filename}\")\n"
   ]
  },
  {
   "cell_type": "code",
   "execution_count": null,
   "id": "04d2d7de",
   "metadata": {},
   "outputs": [],
   "source": []
  }
 ],
 "metadata": {
  "kernelspec": {
   "display_name": "Python 3",
   "language": "python",
   "name": "python3"
  },
  "language_info": {
   "codemirror_mode": {
    "name": "ipython",
    "version": 3
   },
   "file_extension": ".py",
   "mimetype": "text/x-python",
   "name": "python",
   "nbconvert_exporter": "python",
   "pygments_lexer": "ipython3",
   "version": "3.11.13"
  }
 },
 "nbformat": 4,
 "nbformat_minor": 5
}
