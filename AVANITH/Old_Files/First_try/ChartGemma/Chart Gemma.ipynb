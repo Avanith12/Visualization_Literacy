{
 "cells": [
  {
   "cell_type": "code",
   "execution_count": 1,
   "id": "f49e0900",
   "metadata": {},
   "outputs": [
    {
     "data": {
      "application/vnd.jupyter.widget-view+json": {
       "model_id": "7369984104dc4349abba37f423faeed9",
       "version_major": 2,
       "version_minor": 0
      },
      "text/plain": [
       "config.json: 0.00B [00:00, ?B/s]"
      ]
     },
     "metadata": {},
     "output_type": "display_data"
    },
    {
     "name": "stderr",
     "output_type": "stream",
     "text": [
      "c:\\Users\\kanam\\Miniconda3\\envs\\visualization\\Lib\\site-packages\\huggingface_hub\\file_download.py:143: UserWarning: `huggingface_hub` cache-system uses symlinks by default to efficiently store duplicated files but your machine does not support them in C:\\Users\\kanam\\.cache\\huggingface\\hub\\models--ahmed-masry--chartgemma. Caching files will still work but in a degraded version that might require more space on your disk. This warning can be disabled by setting the `HF_HUB_DISABLE_SYMLINKS_WARNING` environment variable. For more details, see https://huggingface.co/docs/huggingface_hub/how-to-cache#limitations.\n",
      "To support symlinks on Windows, you either need to activate Developer Mode or to run Python as an administrator. In order to activate developer mode, see this article: https://docs.microsoft.com/en-us/windows/apps/get-started/enable-your-device-for-development\n",
      "  warnings.warn(message)\n"
     ]
    },
    {
     "data": {
      "application/vnd.jupyter.widget-view+json": {
       "model_id": "551bc4f277a745e88a4676df8d4fd617",
       "version_major": 2,
       "version_minor": 0
      },
      "text/plain": [
       "model.safetensors.index.json: 0.00B [00:00, ?B/s]"
      ]
     },
     "metadata": {},
     "output_type": "display_data"
    },
    {
     "data": {
      "application/vnd.jupyter.widget-view+json": {
       "model_id": "c8fd11c707074112833b98bbf72b5855",
       "version_major": 2,
       "version_minor": 0
      },
      "text/plain": [
       "Fetching 3 files:   0%|          | 0/3 [00:00<?, ?it/s]"
      ]
     },
     "metadata": {},
     "output_type": "display_data"
    },
    {
     "data": {
      "application/vnd.jupyter.widget-view+json": {
       "model_id": "6d7e5b396a9743969030cd07da23b75f",
       "version_major": 2,
       "version_minor": 0
      },
      "text/plain": [
       "model-00001-of-00003.safetensors:   0%|          | 0.00/4.96G [00:00<?, ?B/s]"
      ]
     },
     "metadata": {},
     "output_type": "display_data"
    },
    {
     "data": {
      "application/vnd.jupyter.widget-view+json": {
       "model_id": "865956c26e1a4c2cb486fca3ae2c8b38",
       "version_major": 2,
       "version_minor": 0
      },
      "text/plain": [
       "model-00002-of-00003.safetensors:   0%|          | 0.00/5.00G [00:00<?, ?B/s]"
      ]
     },
     "metadata": {},
     "output_type": "display_data"
    },
    {
     "data": {
      "application/vnd.jupyter.widget-view+json": {
       "model_id": "126529e32bab41af80349265b7ebe7f8",
       "version_major": 2,
       "version_minor": 0
      },
      "text/plain": [
       "model-00003-of-00003.safetensors:   0%|          | 0.00/1.74G [00:00<?, ?B/s]"
      ]
     },
     "metadata": {},
     "output_type": "display_data"
    },
    {
     "data": {
      "application/vnd.jupyter.widget-view+json": {
       "model_id": "920cb80ce05846e4b05b07591b6d7b7e",
       "version_major": 2,
       "version_minor": 0
      },
      "text/plain": [
       "Loading checkpoint shards:   0%|          | 0/3 [00:00<?, ?it/s]"
      ]
     },
     "metadata": {},
     "output_type": "display_data"
    },
    {
     "data": {
      "application/vnd.jupyter.widget-view+json": {
       "model_id": "ed92eb47418540ebb722f7e4a4f98434",
       "version_major": 2,
       "version_minor": 0
      },
      "text/plain": [
       "generation_config.json:   0%|          | 0.00/132 [00:00<?, ?B/s]"
      ]
     },
     "metadata": {},
     "output_type": "display_data"
    },
    {
     "data": {
      "application/vnd.jupyter.widget-view+json": {
       "model_id": "1af2ccd37d494ec5a7dab822b42e8cf3",
       "version_major": 2,
       "version_minor": 0
      },
      "text/plain": [
       "preprocessor_config.json:   0%|          | 0.00/700 [00:00<?, ?B/s]"
      ]
     },
     "metadata": {},
     "output_type": "display_data"
    },
    {
     "name": "stderr",
     "output_type": "stream",
     "text": [
      "Using a slow image processor as `use_fast` is unset and a slow processor was saved with this model. `use_fast=True` will be the default behavior in v4.52, even if the model was saved with a slow processor. This will result in minor differences in outputs. You'll still be able to use a slow processor with `use_fast=False`.\n"
     ]
    },
    {
     "data": {
      "application/vnd.jupyter.widget-view+json": {
       "model_id": "56e4d7470d2b4c62925f0c597190d17b",
       "version_major": 2,
       "version_minor": 0
      },
      "text/plain": [
       "tokenizer_config.json: 0.00B [00:00, ?B/s]"
      ]
     },
     "metadata": {},
     "output_type": "display_data"
    },
    {
     "data": {
      "application/vnd.jupyter.widget-view+json": {
       "model_id": "ceb84bd93bda441ca4d359e23f6bc6b6",
       "version_major": 2,
       "version_minor": 0
      },
      "text/plain": [
       "tokenizer.json:   0%|          | 0.00/17.8M [00:00<?, ?B/s]"
      ]
     },
     "metadata": {},
     "output_type": "display_data"
    },
    {
     "data": {
      "application/vnd.jupyter.widget-view+json": {
       "model_id": "09a50aae5c724802a373b7afa5083632",
       "version_major": 2,
       "version_minor": 0
      },
      "text/plain": [
       "added_tokens.json:   0%|          | 0.00/24.0 [00:00<?, ?B/s]"
      ]
     },
     "metadata": {},
     "output_type": "display_data"
    },
    {
     "data": {
      "application/vnd.jupyter.widget-view+json": {
       "model_id": "bab4444e5fe14990bf31ddf65ff1b934",
       "version_major": 2,
       "version_minor": 0
      },
      "text/plain": [
       "special_tokens_map.json:   0%|          | 0.00/733 [00:00<?, ?B/s]"
      ]
     },
     "metadata": {},
     "output_type": "display_data"
    },
    {
     "name": "stdout",
     "output_type": "stream",
     "text": [
      "✅ Model and processor saved.\n"
     ]
    }
   ],
   "source": [
    "from transformers import AutoProcessor, AutoModelForImageTextToText\n",
    "\n",
    "# Download ChartGemma model and processor\n",
    "model = AutoModelForImageTextToText.from_pretrained(\"ahmed-masry/chartgemma\")\n",
    "processor = AutoProcessor.from_pretrained(\"ahmed-masry/chartgemma\")\n",
    "\n",
    "# Save locally\n",
    "model.save_pretrained(\"Chart_Gemma_3B_Model\")\n",
    "processor.save_pretrained(\"Chart_Gemma_3B_Processor\")\n",
    "\n",
    "print(\"✅ Model and processor saved.\")\n"
   ]
  },
  {
   "cell_type": "code",
   "execution_count": 2,
   "id": "fee0113d",
   "metadata": {},
   "outputs": [
    {
     "data": {
      "application/vnd.jupyter.widget-view+json": {
       "model_id": "e4991a906e78438e96440b0da5dae7a0",
       "version_major": 2,
       "version_minor": 0
      },
      "text/plain": [
       "Loading checkpoint shards:   0%|          | 0/3 [00:00<?, ?it/s]"
      ]
     },
     "metadata": {},
     "output_type": "display_data"
    },
    {
     "name": "stdout",
     "output_type": "stream",
     "text": [
      "✅ ChartGemma loaded successfully.\n"
     ]
    }
   ],
   "source": [
    "from transformers import AutoProcessor, AutoModelForImageTextToText\n",
    "\n",
    "# Load saved model and processor\n",
    "model = AutoModelForImageTextToText.from_pretrained(\"Chart_Gemma_3B_Model\")\n",
    "processor = AutoProcessor.from_pretrained(\"Chart_Gemma_3B_Processor\")\n",
    "\n",
    "print(\"✅ ChartGemma loaded successfully.\")\n"
   ]
  },
  {
   "cell_type": "code",
   "execution_count": 3,
   "id": "4660ecdb",
   "metadata": {},
   "outputs": [],
   "source": [
    "from PIL import Image\n",
    "\n",
    "# Set your image path\n",
    "image_path = \"C:/Users/kanam/OneDrive/Desktop/Visualization_Literacy/Visualization_Literacy/line_chart_dataset/grouped_by_type/Determine_Range/Q81_img1_Red.png\"\n",
    "\n",
    "# Load image\n",
    "image = Image.open(image_path).convert(\"RGB\")\n",
    "\n",
    "# Define question prompt\n",
    "question = \"<image> What was the price range of a barrel of oil in 2015? Options: $35 - $65, $48.36 - $60.95, $37.04 - $48.36, $37.04 - $60.95, Omit. Answer only. No explanation.\"\n"
   ]
  },
  {
   "cell_type": "code",
   "execution_count": 4,
   "id": "aa62fc95",
   "metadata": {},
   "outputs": [
    {
     "name": "stdout",
     "output_type": "stream",
     "text": [
      "🧠 Run 1...\n",
      "Run 1 Answer: What was the price range of a barrel of oil in 2015? Options: $35 - $65, $48.36 - $60.95, $37.04 - $48.36, $37.04 - $60.95, Omit. Answer only. No explanation.\n",
      "$37.04 - $60.95\n",
      "🧠 Run 2...\n",
      "Run 2 Answer: What was the price range of a barrel of oil in 2015? Options: $35 - $65, $48.36 - $60.95, $37.04 - $48.36, $37.04 - $60.95, Omit. Answer only. No explanation.\n",
      "$37.04 - $60.95\n",
      "🧠 Run 3...\n",
      "Run 3 Answer: What was the price range of a barrel of oil in 2015? Options: $35 - $65, $48.36 - $60.95, $37.04 - $48.36, $37.04 - $60.95, Omit. Answer only. No explanation.\n",
      "$37.04 - $60.95\n",
      "\n",
      "✅ All results saved to: chartgemma_output.csv\n"
     ]
    }
   ],
   "source": [
    "import torch\n",
    "import csv\n",
    "import time\n",
    "from datetime import datetime\n",
    "\n",
    "# CSV output setup\n",
    "csv_filename = \"chartgemma_output.csv\"\n",
    "with open(csv_filename, mode=\"w\", newline=\"\", encoding=\"utf-8\") as file:\n",
    "    writer = csv.writer(file)\n",
    "    writer.writerow([\"Run\", \"Timestamp\", \"Response\"])\n",
    "\n",
    "    for i in range(1, 4):\n",
    "        print(f\"🧠 Run {i}...\")\n",
    "        try:\n",
    "            inputs = processor(images=image, text=question, return_tensors=\"pt\").to(model.device)\n",
    "            with torch.no_grad():\n",
    "                generated_ids = model.generate(**inputs, max_new_tokens=20)\n",
    "            answer = processor.batch_decode(generated_ids, skip_special_tokens=True)[0].strip()\n",
    "        except Exception as e:\n",
    "            answer = f\"Error: {e}\"\n",
    "\n",
    "        timestamp = datetime.now().strftime(\"%Y-%m-%d %H:%M:%S\")\n",
    "        writer.writerow([i, timestamp, answer])\n",
    "        print(f\"Run {i} Answer: {answer}\")\n",
    "\n",
    "        if i < 3:\n",
    "            time.sleep(6)\n",
    "\n",
    "print(f\"\\n✅ All results saved to: {csv_filename}\")\n"
   ]
  },
  {
   "cell_type": "code",
   "execution_count": null,
   "id": "2458ae72",
   "metadata": {},
   "outputs": [
    {
     "data": {
      "text/html": [
       "<div>\n",
       "<style scoped>\n",
       "    .dataframe tbody tr th:only-of-type {\n",
       "        vertical-align: middle;\n",
       "    }\n",
       "\n",
       "    .dataframe tbody tr th {\n",
       "        vertical-align: top;\n",
       "    }\n",
       "\n",
       "    .dataframe thead th {\n",
       "        text-align: right;\n",
       "    }\n",
       "</style>\n",
       "<table border=\"1\" class=\"dataframe\">\n",
       "  <thead>\n",
       "    <tr style=\"text-align: right;\">\n",
       "      <th></th>\n",
       "      <th>Index</th>\n",
       "      <th>Image</th>\n",
       "      <th>Question Type</th>\n",
       "      <th>Prompt</th>\n",
       "      <th>Question Description</th>\n",
       "      <th>Model Name</th>\n",
       "      <th>Color</th>\n",
       "      <th>Chart Title</th>\n",
       "      <th>Image Path</th>\n",
       "      <th>Ground Truth</th>\n",
       "      <th>Prediction</th>\n",
       "      <th>Answer Time</th>\n",
       "    </tr>\n",
       "  </thead>\n",
       "  <tbody>\n",
       "    <tr>\n",
       "      <th>0</th>\n",
       "      <td>line_data.csv_line_Monthly_Oil_Price_History_i...</td>\n",
       "      <td>line_data.csv_line_Monthly_Oil_Price_History_i...</td>\n",
       "      <td>Determine Range</td>\n",
       "      <td>&lt;image&gt; What was the price range of a barrel o...</td>\n",
       "      <td>What was the price range of a barrel of oil in...</td>\n",
       "      <td>ChartGemma-2.92B</td>\n",
       "      <td>black</td>\n",
       "      <td>Monthly Oil Price History in 2015</td>\n",
       "      <td>C:\\Users\\kanam\\OneDrive\\Desktop\\Visualization_...</td>\n",
       "      <td>$37.04 - $60.95</td>\n",
       "      <td>What was the price range of a barrel of oil i...</td>\n",
       "      <td>98.74</td>\n",
       "    </tr>\n",
       "    <tr>\n",
       "      <th>1</th>\n",
       "      <td>line_data.csv_line_Monthly_Oil_Price_History_i...</td>\n",
       "      <td>line_data.csv_line_Monthly_Oil_Price_History_i...</td>\n",
       "      <td>Determine Range</td>\n",
       "      <td>&lt;image&gt; What was the price range of a barrel o...</td>\n",
       "      <td>What was the price range of a barrel of oil in...</td>\n",
       "      <td>ChartGemma-2.92B</td>\n",
       "      <td>black</td>\n",
       "      <td>Monthly Oil Price History in 2015</td>\n",
       "      <td>C:\\Users\\kanam\\OneDrive\\Desktop\\Visualization_...</td>\n",
       "      <td>$37.04 - $60.95</td>\n",
       "      <td>What was the price range of a barrel of oil i...</td>\n",
       "      <td>93.86</td>\n",
       "    </tr>\n",
       "    <tr>\n",
       "      <th>2</th>\n",
       "      <td>line_data.csv_line_Monthly_Oil_Price_History_i...</td>\n",
       "      <td>line_data.csv_line_Monthly_Oil_Price_History_i...</td>\n",
       "      <td>Determine Range</td>\n",
       "      <td>&lt;image&gt; What was the price range of a barrel o...</td>\n",
       "      <td>What was the price range of a barrel of oil in...</td>\n",
       "      <td>ChartGemma-2.92B</td>\n",
       "      <td>black</td>\n",
       "      <td>Monthly Oil Price History in 2015</td>\n",
       "      <td>C:\\Users\\kanam\\OneDrive\\Desktop\\Visualization_...</td>\n",
       "      <td>$37.04 - $60.95</td>\n",
       "      <td>What was the price range of a barrel of oil i...</td>\n",
       "      <td>55.65</td>\n",
       "    </tr>\n",
       "    <tr>\n",
       "      <th>3</th>\n",
       "      <td>line_data.csv_line_Monthly_Oil_Price_History_i...</td>\n",
       "      <td>line_data.csv_line_Monthly_Oil_Price_History_i...</td>\n",
       "      <td>Determine Range</td>\n",
       "      <td>&lt;image&gt; What was the price range of a barrel o...</td>\n",
       "      <td>What was the price range of a barrel of oil in...</td>\n",
       "      <td>ChartGemma-2.92B</td>\n",
       "      <td>black</td>\n",
       "      <td>Monthly Oil Price History in 2015</td>\n",
       "      <td>C:\\Users\\kanam\\OneDrive\\Desktop\\Visualization_...</td>\n",
       "      <td>$37.04 - $60.95</td>\n",
       "      <td>What was the price range of a barrel of oil i...</td>\n",
       "      <td>56.32</td>\n",
       "    </tr>\n",
       "    <tr>\n",
       "      <th>4</th>\n",
       "      <td>line_data.csv_line_Monthly_Oil_Price_History_i...</td>\n",
       "      <td>line_data.csv_line_Monthly_Oil_Price_History_i...</td>\n",
       "      <td>Determine Range</td>\n",
       "      <td>&lt;image&gt; What was the price range of a barrel o...</td>\n",
       "      <td>What was the price range of a barrel of oil in...</td>\n",
       "      <td>ChartGemma-2.92B</td>\n",
       "      <td>black</td>\n",
       "      <td>Monthly Oil Price History in 2015</td>\n",
       "      <td>C:\\Users\\kanam\\OneDrive\\Desktop\\Visualization_...</td>\n",
       "      <td>$37.04 - $60.95</td>\n",
       "      <td>What was the price range of a barrel of oil i...</td>\n",
       "      <td>82.31</td>\n",
       "    </tr>\n",
       "  </tbody>\n",
       "</table>\n",
       "</div>"
      ],
      "text/plain": [
       "                                               Index  \\\n",
       "0  line_data.csv_line_Monthly_Oil_Price_History_i...   \n",
       "1  line_data.csv_line_Monthly_Oil_Price_History_i...   \n",
       "2  line_data.csv_line_Monthly_Oil_Price_History_i...   \n",
       "3  line_data.csv_line_Monthly_Oil_Price_History_i...   \n",
       "4  line_data.csv_line_Monthly_Oil_Price_History_i...   \n",
       "\n",
       "                                               Image    Question Type  \\\n",
       "0  line_data.csv_line_Monthly_Oil_Price_History_i...  Determine Range   \n",
       "1  line_data.csv_line_Monthly_Oil_Price_History_i...  Determine Range   \n",
       "2  line_data.csv_line_Monthly_Oil_Price_History_i...  Determine Range   \n",
       "3  line_data.csv_line_Monthly_Oil_Price_History_i...  Determine Range   \n",
       "4  line_data.csv_line_Monthly_Oil_Price_History_i...  Determine Range   \n",
       "\n",
       "                                              Prompt  \\\n",
       "0  <image> What was the price range of a barrel o...   \n",
       "1  <image> What was the price range of a barrel o...   \n",
       "2  <image> What was the price range of a barrel o...   \n",
       "3  <image> What was the price range of a barrel o...   \n",
       "4  <image> What was the price range of a barrel o...   \n",
       "\n",
       "                                Question Description        Model Name  Color  \\\n",
       "0  What was the price range of a barrel of oil in...  ChartGemma-2.92B  black   \n",
       "1  What was the price range of a barrel of oil in...  ChartGemma-2.92B  black   \n",
       "2  What was the price range of a barrel of oil in...  ChartGemma-2.92B  black   \n",
       "3  What was the price range of a barrel of oil in...  ChartGemma-2.92B  black   \n",
       "4  What was the price range of a barrel of oil in...  ChartGemma-2.92B  black   \n",
       "\n",
       "                         Chart Title  \\\n",
       "0  Monthly Oil Price History in 2015   \n",
       "1  Monthly Oil Price History in 2015   \n",
       "2  Monthly Oil Price History in 2015   \n",
       "3  Monthly Oil Price History in 2015   \n",
       "4  Monthly Oil Price History in 2015   \n",
       "\n",
       "                                          Image Path     Ground Truth  \\\n",
       "0  C:\\Users\\kanam\\OneDrive\\Desktop\\Visualization_...  $37.04 - $60.95   \n",
       "1  C:\\Users\\kanam\\OneDrive\\Desktop\\Visualization_...  $37.04 - $60.95   \n",
       "2  C:\\Users\\kanam\\OneDrive\\Desktop\\Visualization_...  $37.04 - $60.95   \n",
       "3  C:\\Users\\kanam\\OneDrive\\Desktop\\Visualization_...  $37.04 - $60.95   \n",
       "4  C:\\Users\\kanam\\OneDrive\\Desktop\\Visualization_...  $37.04 - $60.95   \n",
       "\n",
       "                                          Prediction  Answer Time  \n",
       "0   What was the price range of a barrel of oil i...        98.74  \n",
       "1   What was the price range of a barrel of oil i...        93.86  \n",
       "2   What was the price range of a barrel of oil i...        55.65  \n",
       "3   What was the price range of a barrel of oil i...        56.32  \n",
       "4   What was the price range of a barrel of oil i...        82.31  "
      ]
     },
     "execution_count": 13,
     "metadata": {},
     "output_type": "execute_result"
    }
   ],
   "source": []
  },
  {
   "cell_type": "code",
   "execution_count": null,
   "id": "eacb3266",
   "metadata": {},
   "outputs": [
    {
     "data": {
      "text/html": [
       "<div>\n",
       "<style scoped>\n",
       "    .dataframe tbody tr th:only-of-type {\n",
       "        vertical-align: middle;\n",
       "    }\n",
       "\n",
       "    .dataframe tbody tr th {\n",
       "        vertical-align: top;\n",
       "    }\n",
       "\n",
       "    .dataframe thead th {\n",
       "        text-align: right;\n",
       "    }\n",
       "</style>\n",
       "<table border=\"1\" class=\"dataframe\">\n",
       "  <thead>\n",
       "    <tr style=\"text-align: right;\">\n",
       "      <th></th>\n",
       "      <th>Index</th>\n",
       "      <th>Image</th>\n",
       "      <th>Question Type</th>\n",
       "      <th>Prompt</th>\n",
       "      <th>Question Description</th>\n",
       "      <th>Model Name</th>\n",
       "      <th>Color</th>\n",
       "      <th>Chart Title</th>\n",
       "      <th>Image Path</th>\n",
       "      <th>Ground Truth</th>\n",
       "      <th>Prediction</th>\n",
       "      <th>Answer Time</th>\n",
       "    </tr>\n",
       "  </thead>\n",
       "  <tbody>\n",
       "    <tr>\n",
       "      <th>0</th>\n",
       "      <td>line_data.csv_line_Monthly_Oil_Price_History_i...</td>\n",
       "      <td>line_data.csv_line_Monthly_Oil_Price_History_i...</td>\n",
       "      <td>Determine Range</td>\n",
       "      <td>What was the price range of a barrel of oil in...</td>\n",
       "      <td>What was the price range of a barrel of oil in...</td>\n",
       "      <td>gemini-2.5-pro</td>\n",
       "      <td>black</td>\n",
       "      <td>Monthly Oil Price History in 2015</td>\n",
       "      <td>C:\\Users\\kanam\\OneDrive\\Desktop\\Visualization_...</td>\n",
       "      <td>$37.04 - $60.95</td>\n",
       "      <td>$37.04 - $60.95</td>\n",
       "      <td>10.25</td>\n",
       "    </tr>\n",
       "    <tr>\n",
       "      <th>1</th>\n",
       "      <td>line_data.csv_line_Monthly_Oil_Price_History_i...</td>\n",
       "      <td>line_data.csv_line_Monthly_Oil_Price_History_i...</td>\n",
       "      <td>Determine Range</td>\n",
       "      <td>What was the price range of a barrel of oil in...</td>\n",
       "      <td>What was the price range of a barrel of oil in...</td>\n",
       "      <td>gemini-2.5-pro</td>\n",
       "      <td>black</td>\n",
       "      <td>Monthly Oil Price History in 2015</td>\n",
       "      <td>C:\\Users\\kanam\\OneDrive\\Desktop\\Visualization_...</td>\n",
       "      <td>$37.04 - $60.95</td>\n",
       "      <td>$37.04 - $60.95</td>\n",
       "      <td>13.64</td>\n",
       "    </tr>\n",
       "    <tr>\n",
       "      <th>2</th>\n",
       "      <td>line_data.csv_line_Monthly_Oil_Price_History_i...</td>\n",
       "      <td>line_data.csv_line_Monthly_Oil_Price_History_i...</td>\n",
       "      <td>Determine Range</td>\n",
       "      <td>What was the price range of a barrel of oil in...</td>\n",
       "      <td>What was the price range of a barrel of oil in...</td>\n",
       "      <td>gemini-2.5-pro</td>\n",
       "      <td>black</td>\n",
       "      <td>Monthly Oil Price History in 2015</td>\n",
       "      <td>C:\\Users\\kanam\\OneDrive\\Desktop\\Visualization_...</td>\n",
       "      <td>$37.04 - $60.95</td>\n",
       "      <td>$37.04 - $60.95</td>\n",
       "      <td>13.63</td>\n",
       "    </tr>\n",
       "    <tr>\n",
       "      <th>3</th>\n",
       "      <td>line_data.csv_line_Monthly_Oil_Price_History_i...</td>\n",
       "      <td>line_data.csv_line_Monthly_Oil_Price_History_i...</td>\n",
       "      <td>Determine Range</td>\n",
       "      <td>What was the price range of a barrel of oil in...</td>\n",
       "      <td>What was the price range of a barrel of oil in...</td>\n",
       "      <td>gemini-2.5-pro</td>\n",
       "      <td>black</td>\n",
       "      <td>Monthly Oil Price History in 2015</td>\n",
       "      <td>C:\\Users\\kanam\\OneDrive\\Desktop\\Visualization_...</td>\n",
       "      <td>$37.04 - $60.95</td>\n",
       "      <td>$37.04 - $60.95</td>\n",
       "      <td>14.65</td>\n",
       "    </tr>\n",
       "    <tr>\n",
       "      <th>4</th>\n",
       "      <td>line_data.csv_line_Monthly_Oil_Price_History_i...</td>\n",
       "      <td>line_data.csv_line_Monthly_Oil_Price_History_i...</td>\n",
       "      <td>Determine Range</td>\n",
       "      <td>What was the price range of a barrel of oil in...</td>\n",
       "      <td>What was the price range of a barrel of oil in...</td>\n",
       "      <td>gemini-2.5-pro</td>\n",
       "      <td>black</td>\n",
       "      <td>Monthly Oil Price History in 2015</td>\n",
       "      <td>C:\\Users\\kanam\\OneDrive\\Desktop\\Visualization_...</td>\n",
       "      <td>$37.04 - $60.95</td>\n",
       "      <td>$37.04 - $60.95</td>\n",
       "      <td>16.06</td>\n",
       "    </tr>\n",
       "  </tbody>\n",
       "</table>\n",
       "</div>"
      ],
      "text/plain": [
       "                                               Index  \\\n",
       "0  line_data.csv_line_Monthly_Oil_Price_History_i...   \n",
       "1  line_data.csv_line_Monthly_Oil_Price_History_i...   \n",
       "2  line_data.csv_line_Monthly_Oil_Price_History_i...   \n",
       "3  line_data.csv_line_Monthly_Oil_Price_History_i...   \n",
       "4  line_data.csv_line_Monthly_Oil_Price_History_i...   \n",
       "\n",
       "                                               Image    Question Type  \\\n",
       "0  line_data.csv_line_Monthly_Oil_Price_History_i...  Determine Range   \n",
       "1  line_data.csv_line_Monthly_Oil_Price_History_i...  Determine Range   \n",
       "2  line_data.csv_line_Monthly_Oil_Price_History_i...  Determine Range   \n",
       "3  line_data.csv_line_Monthly_Oil_Price_History_i...  Determine Range   \n",
       "4  line_data.csv_line_Monthly_Oil_Price_History_i...  Determine Range   \n",
       "\n",
       "                                              Prompt  \\\n",
       "0  What was the price range of a barrel of oil in...   \n",
       "1  What was the price range of a barrel of oil in...   \n",
       "2  What was the price range of a barrel of oil in...   \n",
       "3  What was the price range of a barrel of oil in...   \n",
       "4  What was the price range of a barrel of oil in...   \n",
       "\n",
       "                                Question Description      Model Name  Color  \\\n",
       "0  What was the price range of a barrel of oil in...  gemini-2.5-pro  black   \n",
       "1  What was the price range of a barrel of oil in...  gemini-2.5-pro  black   \n",
       "2  What was the price range of a barrel of oil in...  gemini-2.5-pro  black   \n",
       "3  What was the price range of a barrel of oil in...  gemini-2.5-pro  black   \n",
       "4  What was the price range of a barrel of oil in...  gemini-2.5-pro  black   \n",
       "\n",
       "                         Chart Title  \\\n",
       "0  Monthly Oil Price History in 2015   \n",
       "1  Monthly Oil Price History in 2015   \n",
       "2  Monthly Oil Price History in 2015   \n",
       "3  Monthly Oil Price History in 2015   \n",
       "4  Monthly Oil Price History in 2015   \n",
       "\n",
       "                                          Image Path     Ground Truth  \\\n",
       "0  C:\\Users\\kanam\\OneDrive\\Desktop\\Visualization_...  $37.04 - $60.95   \n",
       "1  C:\\Users\\kanam\\OneDrive\\Desktop\\Visualization_...  $37.04 - $60.95   \n",
       "2  C:\\Users\\kanam\\OneDrive\\Desktop\\Visualization_...  $37.04 - $60.95   \n",
       "3  C:\\Users\\kanam\\OneDrive\\Desktop\\Visualization_...  $37.04 - $60.95   \n",
       "4  C:\\Users\\kanam\\OneDrive\\Desktop\\Visualization_...  $37.04 - $60.95   \n",
       "\n",
       "        Prediction  Answer Time  \n",
       "0  $37.04 - $60.95        10.25  \n",
       "1  $37.04 - $60.95        13.64  \n",
       "2  $37.04 - $60.95        13.63  \n",
       "3  $37.04 - $60.95        14.65  \n",
       "4  $37.04 - $60.95        16.06  "
      ]
     },
     "execution_count": 9,
     "metadata": {},
     "output_type": "execute_result"
    }
   ],
   "source": []
  },
  {
   "cell_type": "code",
   "execution_count": null,
   "id": "50d637cd",
   "metadata": {},
   "outputs": [
    {
     "data": {
      "text/html": [
       "<div>\n",
       "<style scoped>\n",
       "    .dataframe tbody tr th:only-of-type {\n",
       "        vertical-align: middle;\n",
       "    }\n",
       "\n",
       "    .dataframe tbody tr th {\n",
       "        vertical-align: top;\n",
       "    }\n",
       "\n",
       "    .dataframe thead th {\n",
       "        text-align: right;\n",
       "    }\n",
       "</style>\n",
       "<table border=\"1\" class=\"dataframe\">\n",
       "  <thead>\n",
       "    <tr style=\"text-align: right;\">\n",
       "      <th></th>\n",
       "      <th>Index</th>\n",
       "      <th>Image</th>\n",
       "      <th>Question Type</th>\n",
       "      <th>Prompt</th>\n",
       "      <th>Question Description</th>\n",
       "      <th>Model Name</th>\n",
       "      <th>Color</th>\n",
       "      <th>Chart Title</th>\n",
       "      <th>Image Path</th>\n",
       "      <th>Ground Truth</th>\n",
       "      <th>Prediction</th>\n",
       "      <th>Answer Time</th>\n",
       "    </tr>\n",
       "  </thead>\n",
       "  <tbody>\n",
       "    <tr>\n",
       "      <th>0</th>\n",
       "      <td>line_data.csv_line_Monthly_Oil_Price_History_i...</td>\n",
       "      <td>line_data.csv_line_Monthly_Oil_Price_History_i...</td>\n",
       "      <td>Determine Range</td>\n",
       "      <td>What was the price range of a barrel of oil i...</td>\n",
       "      <td>What was the price range of a barrel of oil in...</td>\n",
       "      <td>gemini-2.5-flash</td>\n",
       "      <td>black</td>\n",
       "      <td>Monthly Oil Price History in 2015</td>\n",
       "      <td>C:\\Users\\kanam\\OneDrive\\Desktop\\Visualization_...</td>\n",
       "      <td>$37.04 - $60.95</td>\n",
       "      <td>$37.04 - $60.95</td>\n",
       "      <td>5.09</td>\n",
       "    </tr>\n",
       "    <tr>\n",
       "      <th>1</th>\n",
       "      <td>line_data.csv_line_Monthly_Oil_Price_History_i...</td>\n",
       "      <td>line_data.csv_line_Monthly_Oil_Price_History_i...</td>\n",
       "      <td>Determine Range</td>\n",
       "      <td>What was the price range of a barrel of oil i...</td>\n",
       "      <td>What was the price range of a barrel of oil in...</td>\n",
       "      <td>gemini-2.5-flash</td>\n",
       "      <td>black</td>\n",
       "      <td>Monthly Oil Price History in 2015</td>\n",
       "      <td>C:\\Users\\kanam\\OneDrive\\Desktop\\Visualization_...</td>\n",
       "      <td>$37.04 - $60.95</td>\n",
       "      <td>$37.04 - $60.95</td>\n",
       "      <td>3.23</td>\n",
       "    </tr>\n",
       "    <tr>\n",
       "      <th>2</th>\n",
       "      <td>line_data.csv_line_Monthly_Oil_Price_History_i...</td>\n",
       "      <td>line_data.csv_line_Monthly_Oil_Price_History_i...</td>\n",
       "      <td>Determine Range</td>\n",
       "      <td>What was the price range of a barrel of oil i...</td>\n",
       "      <td>What was the price range of a barrel of oil in...</td>\n",
       "      <td>gemini-2.5-flash</td>\n",
       "      <td>black</td>\n",
       "      <td>Monthly Oil Price History in 2015</td>\n",
       "      <td>C:\\Users\\kanam\\OneDrive\\Desktop\\Visualization_...</td>\n",
       "      <td>$37.04 - $60.95</td>\n",
       "      <td>$37.04 - $60.95</td>\n",
       "      <td>3.05</td>\n",
       "    </tr>\n",
       "    <tr>\n",
       "      <th>3</th>\n",
       "      <td>line_data.csv_line_Monthly_Oil_Price_History_i...</td>\n",
       "      <td>line_data.csv_line_Monthly_Oil_Price_History_i...</td>\n",
       "      <td>Determine Range</td>\n",
       "      <td>What was the price range of a barrel of oil i...</td>\n",
       "      <td>What was the price range of a barrel of oil in...</td>\n",
       "      <td>gemini-2.5-flash</td>\n",
       "      <td>black</td>\n",
       "      <td>Monthly Oil Price History in 2015</td>\n",
       "      <td>C:\\Users\\kanam\\OneDrive\\Desktop\\Visualization_...</td>\n",
       "      <td>$37.04 - $60.95</td>\n",
       "      <td>$37.04 - $60.95</td>\n",
       "      <td>3.31</td>\n",
       "    </tr>\n",
       "    <tr>\n",
       "      <th>4</th>\n",
       "      <td>line_data.csv_line_Monthly_Oil_Price_History_i...</td>\n",
       "      <td>line_data.csv_line_Monthly_Oil_Price_History_i...</td>\n",
       "      <td>Determine Range</td>\n",
       "      <td>What was the price range of a barrel of oil i...</td>\n",
       "      <td>What was the price range of a barrel of oil in...</td>\n",
       "      <td>gemini-2.5-flash</td>\n",
       "      <td>black</td>\n",
       "      <td>Monthly Oil Price History in 2015</td>\n",
       "      <td>C:\\Users\\kanam\\OneDrive\\Desktop\\Visualization_...</td>\n",
       "      <td>$37.04 - $60.95</td>\n",
       "      <td>$37.04 - $60.95</td>\n",
       "      <td>4.12</td>\n",
       "    </tr>\n",
       "  </tbody>\n",
       "</table>\n",
       "</div>"
      ],
      "text/plain": [
       "                                               Index  \\\n",
       "0  line_data.csv_line_Monthly_Oil_Price_History_i...   \n",
       "1  line_data.csv_line_Monthly_Oil_Price_History_i...   \n",
       "2  line_data.csv_line_Monthly_Oil_Price_History_i...   \n",
       "3  line_data.csv_line_Monthly_Oil_Price_History_i...   \n",
       "4  line_data.csv_line_Monthly_Oil_Price_History_i...   \n",
       "\n",
       "                                               Image    Question Type  \\\n",
       "0  line_data.csv_line_Monthly_Oil_Price_History_i...  Determine Range   \n",
       "1  line_data.csv_line_Monthly_Oil_Price_History_i...  Determine Range   \n",
       "2  line_data.csv_line_Monthly_Oil_Price_History_i...  Determine Range   \n",
       "3  line_data.csv_line_Monthly_Oil_Price_History_i...  Determine Range   \n",
       "4  line_data.csv_line_Monthly_Oil_Price_History_i...  Determine Range   \n",
       "\n",
       "                                              Prompt  \\\n",
       "0   What was the price range of a barrel of oil i...   \n",
       "1   What was the price range of a barrel of oil i...   \n",
       "2   What was the price range of a barrel of oil i...   \n",
       "3   What was the price range of a barrel of oil i...   \n",
       "4   What was the price range of a barrel of oil i...   \n",
       "\n",
       "                                Question Description        Model Name  Color  \\\n",
       "0  What was the price range of a barrel of oil in...  gemini-2.5-flash  black   \n",
       "1  What was the price range of a barrel of oil in...  gemini-2.5-flash  black   \n",
       "2  What was the price range of a barrel of oil in...  gemini-2.5-flash  black   \n",
       "3  What was the price range of a barrel of oil in...  gemini-2.5-flash  black   \n",
       "4  What was the price range of a barrel of oil in...  gemini-2.5-flash  black   \n",
       "\n",
       "                         Chart Title  \\\n",
       "0  Monthly Oil Price History in 2015   \n",
       "1  Monthly Oil Price History in 2015   \n",
       "2  Monthly Oil Price History in 2015   \n",
       "3  Monthly Oil Price History in 2015   \n",
       "4  Monthly Oil Price History in 2015   \n",
       "\n",
       "                                          Image Path     Ground Truth  \\\n",
       "0  C:\\Users\\kanam\\OneDrive\\Desktop\\Visualization_...  $37.04 - $60.95   \n",
       "1  C:\\Users\\kanam\\OneDrive\\Desktop\\Visualization_...  $37.04 - $60.95   \n",
       "2  C:\\Users\\kanam\\OneDrive\\Desktop\\Visualization_...  $37.04 - $60.95   \n",
       "3  C:\\Users\\kanam\\OneDrive\\Desktop\\Visualization_...  $37.04 - $60.95   \n",
       "4  C:\\Users\\kanam\\OneDrive\\Desktop\\Visualization_...  $37.04 - $60.95   \n",
       "\n",
       "        Prediction  Answer Time  \n",
       "0  $37.04 - $60.95         5.09  \n",
       "1  $37.04 - $60.95         3.23  \n",
       "2  $37.04 - $60.95         3.05  \n",
       "3  $37.04 - $60.95         3.31  \n",
       "4  $37.04 - $60.95         4.12  "
      ]
     },
     "execution_count": 10,
     "metadata": {},
     "output_type": "execute_result"
    }
   ],
   "source": []
  },
  {
   "cell_type": "code",
   "execution_count": null,
   "id": "d70a0167",
   "metadata": {},
   "outputs": [
    {
     "name": "stdout",
     "output_type": "stream",
     "text": [
      "['Index', 'Image', 'Question Type', 'Prompt', 'Question Description', 'Model Name', 'Color', 'Chart Title', 'Image Path', 'Ground Truth', 'Prediction', 'Answer Time']\n"
     ]
    }
   ],
   "source": []
  },
  {
   "cell_type": "code",
   "execution_count": null,
   "id": "a63011f0",
   "metadata": {},
   "outputs": [],
   "source": []
  }
 ],
 "metadata": {
  "kernelspec": {
   "display_name": "Python 3",
   "language": "python",
   "name": "python3"
  },
  "language_info": {
   "codemirror_mode": {
    "name": "ipython",
    "version": 3
   },
   "file_extension": ".py",
   "mimetype": "text/x-python",
   "name": "python",
   "nbconvert_exporter": "python",
   "pygments_lexer": "ipython3",
   "version": "3.11.13"
  }
 },
 "nbformat": 4,
 "nbformat_minor": 5
}
