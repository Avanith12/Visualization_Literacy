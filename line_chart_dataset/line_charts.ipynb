{
 "cells": [
  {
   "cell_type": "markdown",
   "id": "a63c1bc2",
   "metadata": {},
   "source": [
    "## 1. Load line charts dataset"
   ]
  },
  {
   "cell_type": "code",
   "execution_count": 5,
   "id": "871e46bd",
   "metadata": {},
   "outputs": [
    {
     "data": {
      "text/plain": [
       "640"
      ]
     },
     "execution_count": 5,
     "metadata": {},
     "output_type": "execute_result"
    }
   ],
   "source": [
    "from analyze_line_charts import *\n",
    "\n",
    "line_rows = load_line_rows() \n",
    "\n",
    "len(line_rows)\n"
   ]
  },
  {
   "cell_type": "markdown",
   "id": "86401ce6",
   "metadata": {},
   "source": [
    "## 2. Count how many unique questions exist in the line dataset"
   ]
  },
  {
   "cell_type": "code",
   "execution_count": 6,
   "id": "d1b00ee8",
   "metadata": {},
   "outputs": [
    {
     "name": "stdout",
     "output_type": "stream",
     "text": [
      "The number of questions in the line dataset is 16\n",
      "Number of unique questions: ['What was the price of a barrel of oil in February 2015? Options: $57.36, $47.82, $50.24, $39.72, Omit'\n",
      " 'In which month was the price of a barrel of oil the lowest in 2015? Options: March, May, July,December, Omit'\n",
      " 'What was the price range of a barrel of oil in 2015? Options: $35 - $65, $48.36 - $60.95, $37.04 - $48.36, $37.04 - $60.95, Omit'\n",
      " 'Over the course of the second half of 2015, the price of a barrel of oil was ____________. Options: rising, falling, staying, Omit'\n",
      " 'About how much did the price of a barrel of oil fall from April to September in 2015? Options: $4, $15, $17, $45, Omit'\n",
      " 'What was the average price of a pound of coffee beans in September 2013? Options: $4.9, $5.0, $5.1, $5.2, Omit'\n",
      " 'When was the average price of a pound of coffee beans at minimum? Options: April 2013, September 2013, June 2014, December 2014, Omit'\n",
      " 'What was the range of the average price of a pound of coffee beans between January 2013 and December 2014? Options: $4.4 - $6.2, $4.6 - $5.9, $4.6 - $6.0, $4.6 - $6.1, Omit'\n",
      " 'Over the course of 2013, the average price of a pound of coffee beans was ____________. Options: rising, falling, staying, Omit'\n",
      " 'For how many months was the average price of a pound of coffee beans cheaper than that in December 2013? Options: 3 months, 4 months, 5 months, 6 months, Omit '\n",
      " 'What was the number of girls named ‘Amelia’ in 2010 in the UK? Options: 1,500, 3,800, 4,200, 8,000, Omit'\n",
      " 'About what was the ratio of the number of girls named ‘Olivia’ to those named ‘Isla’ in 2014 in the UK? Options: 1 to 1, 1 to 2, 1 to 3, 1 to 4, Omit'\n",
      " 'Over the course of years between 2009 and 2014, when was the number of girls named ‘Amelia’ at the maximum? Options: 2009, 2011, 2012, 2014, Omit'\n",
      " 'Over the course of years between 2009 and 2014, what was the range of the number of girls named ‘Olivia’? Options: 1200-4700, 1200-8700, 1800-4000, 3000-8700The number of girls named ‘Isla’ was __________ from 2009 to 2012. Options: rising, falling, staying, Omit'\n",
      " 'In the UK, the number of girls named ‘Amelia’ in 2014 was more than it was in 2013. Options: True, False, Omit'\n",
      " 'Over the course of years between 2009 and 2014, the number of girls named ‘Isla’ was always more than ‘Olivia’. Options: True, False, Omit']\n"
     ]
    }
   ],
   "source": [
    "count_unique_questions = count_unique_questions(line_rows)\n",
    "print(f\"Number of unique questions: {count_unique_questions}\")\n"
   ]
  },
  {
   "cell_type": "code",
   "execution_count": 11,
   "id": "d0e0cf76",
   "metadata": {},
   "outputs": [
    {
     "data": {
      "text/html": [
       "<div>\n",
       "<style scoped>\n",
       "    .dataframe tbody tr th:only-of-type {\n",
       "        vertical-align: middle;\n",
       "    }\n",
       "\n",
       "    .dataframe tbody tr th {\n",
       "        vertical-align: top;\n",
       "    }\n",
       "\n",
       "    .dataframe thead th {\n",
       "        text-align: right;\n",
       "    }\n",
       "</style>\n",
       "<table border=\"1\" class=\"dataframe\">\n",
       "  <thead>\n",
       "    <tr style=\"text-align: right;\">\n",
       "      <th></th>\n",
       "      <th>question</th>\n",
       "      <th>question_type</th>\n",
       "    </tr>\n",
       "  </thead>\n",
       "  <tbody>\n",
       "    <tr>\n",
       "      <th>0</th>\n",
       "      <td>What was the price of a barrel of oil in Febru...</td>\n",
       "      <td>Retrieve Value</td>\n",
       "    </tr>\n",
       "    <tr>\n",
       "      <th>40</th>\n",
       "      <td>In which month was the price of a barrel of oi...</td>\n",
       "      <td>Find Extremum</td>\n",
       "    </tr>\n",
       "    <tr>\n",
       "      <th>80</th>\n",
       "      <td>What was the price range of a barrel of oil in...</td>\n",
       "      <td>Determine Range</td>\n",
       "    </tr>\n",
       "    <tr>\n",
       "      <th>120</th>\n",
       "      <td>Over the course of the second half of 2015, th...</td>\n",
       "      <td>Find Correlations/Trends</td>\n",
       "    </tr>\n",
       "    <tr>\n",
       "      <th>160</th>\n",
       "      <td>About how much did the price of a barrel of oi...</td>\n",
       "      <td>Make Comparisons</td>\n",
       "    </tr>\n",
       "    <tr>\n",
       "      <th>200</th>\n",
       "      <td>What was the average price of a pound of coffe...</td>\n",
       "      <td>Retrieve Value</td>\n",
       "    </tr>\n",
       "    <tr>\n",
       "      <th>240</th>\n",
       "      <td>When was the average price of a pound of coffe...</td>\n",
       "      <td>Find Extremum</td>\n",
       "    </tr>\n",
       "    <tr>\n",
       "      <th>280</th>\n",
       "      <td>What was the range of the average price of a p...</td>\n",
       "      <td>Determine Range</td>\n",
       "    </tr>\n",
       "    <tr>\n",
       "      <th>320</th>\n",
       "      <td>Over the course of 2013, the average price of ...</td>\n",
       "      <td>Find Correlations/Trends</td>\n",
       "    </tr>\n",
       "    <tr>\n",
       "      <th>360</th>\n",
       "      <td>For how many months was the average price of a...</td>\n",
       "      <td>Make Comparisons</td>\n",
       "    </tr>\n",
       "    <tr>\n",
       "      <th>400</th>\n",
       "      <td>What was the number of girls named ‘Amelia’ in...</td>\n",
       "      <td>Retrieve Value</td>\n",
       "    </tr>\n",
       "    <tr>\n",
       "      <th>440</th>\n",
       "      <td>About what was the ratio of the number of girl...</td>\n",
       "      <td>Retrieve Value</td>\n",
       "    </tr>\n",
       "    <tr>\n",
       "      <th>480</th>\n",
       "      <td>Over the course of years between 2009 and 2014...</td>\n",
       "      <td>Find Extremum</td>\n",
       "    </tr>\n",
       "    <tr>\n",
       "      <th>520</th>\n",
       "      <td>Over the course of years between 2009 and 2014...</td>\n",
       "      <td>Determine Range</td>\n",
       "    </tr>\n",
       "    <tr>\n",
       "      <th>560</th>\n",
       "      <td>In the UK, the number of girls named ‘Amelia’ ...</td>\n",
       "      <td>Make Comparisons</td>\n",
       "    </tr>\n",
       "    <tr>\n",
       "      <th>600</th>\n",
       "      <td>Over the course of years between 2009 and 2014...</td>\n",
       "      <td>Make Comparisons</td>\n",
       "    </tr>\n",
       "  </tbody>\n",
       "</table>\n",
       "</div>"
      ],
      "text/plain": [
       "                                              question  \\\n",
       "0    What was the price of a barrel of oil in Febru...   \n",
       "40   In which month was the price of a barrel of oi...   \n",
       "80   What was the price range of a barrel of oil in...   \n",
       "120  Over the course of the second half of 2015, th...   \n",
       "160  About how much did the price of a barrel of oi...   \n",
       "200  What was the average price of a pound of coffe...   \n",
       "240  When was the average price of a pound of coffe...   \n",
       "280  What was the range of the average price of a p...   \n",
       "320  Over the course of 2013, the average price of ...   \n",
       "360  For how many months was the average price of a...   \n",
       "400  What was the number of girls named ‘Amelia’ in...   \n",
       "440  About what was the ratio of the number of girl...   \n",
       "480  Over the course of years between 2009 and 2014...   \n",
       "520  Over the course of years between 2009 and 2014...   \n",
       "560  In the UK, the number of girls named ‘Amelia’ ...   \n",
       "600  Over the course of years between 2009 and 2014...   \n",
       "\n",
       "                question_type  \n",
       "0              Retrieve Value  \n",
       "40              Find Extremum  \n",
       "80            Determine Range  \n",
       "120  Find Correlations/Trends  \n",
       "160          Make Comparisons  \n",
       "200            Retrieve Value  \n",
       "240             Find Extremum  \n",
       "280           Determine Range  \n",
       "320  Find Correlations/Trends  \n",
       "360          Make Comparisons  \n",
       "400            Retrieve Value  \n",
       "440            Retrieve Value  \n",
       "480             Find Extremum  \n",
       "520           Determine Range  \n",
       "560          Make Comparisons  \n",
       "600          Make Comparisons  "
      ]
     },
     "execution_count": 11,
     "metadata": {},
     "output_type": "execute_result"
    }
   ],
   "source": [
    "question_types = line_rows[[\"question\", \"question_type\"]].drop_duplicates()\n",
    "\n",
    "question_types\n"
   ]
  },
  {
   "cell_type": "code",
   "execution_count": 19,
   "id": "a6e13b02",
   "metadata": {},
   "outputs": [
    {
     "name": "stdout",
     "output_type": "stream",
     "text": [
      "              question_type  question_count\n",
      "0           Determine Range               3\n",
      "1  Find Correlations/Trends               2\n",
      "2             Find Extremum               3\n",
      "3          Make Comparisons               4\n",
      "4            Retrieve Value               4\n"
     ]
    }
   ],
   "source": [
    "# Count the number of unique questions per question type\n",
    "question_type_counts = line_rows[['question', 'question_type']].drop_duplicates().groupby('question_type').size().reset_index(name='question_count')\n",
    "\n",
    "print(question_type_counts)\n"
   ]
  },
  {
   "cell_type": "code",
   "execution_count": 7,
   "id": "1a413b72",
   "metadata": {},
   "outputs": [
    {
     "name": "stdout",
     "output_type": "stream",
     "text": [
      "\n",
      "Determine Range:\n",
      "\n",
      "1. What was the price range of a barrel of oil in 2015? Options: $35 - $65, $48.36 - $60.95, $37.04 - $48.36, $37.04 - $60.95, Omit\n",
      "2. What was the range of the average price of a pound of coffee beans between January 2013 and December 2014? Options: $4.4 - $6.2, $4.6 - $5.9, $4.6 - $6.0, $4.6 - $6.1, Omit\n",
      "3. Over the course of years between 2009 and 2014, what was the range of the number of girls named ‘Olivia’? Options: 1200-4700, 1200-8700, 1800-4000, 3000-8700The number of girls named ‘Isla’ was __________ from 2009 to 2012. Options: rising, falling, staying, Omit\n",
      "\n",
      "Find Correlations/Trends:\n",
      "\n",
      "1. Over the course of the second half of 2015, the price of a barrel of oil was ____________. Options: rising, falling, staying, Omit\n",
      "2. Over the course of 2013, the average price of a pound of coffee beans was ____________. Options: rising, falling, staying, Omit\n",
      "\n",
      "Find Extremum:\n",
      "\n",
      "1. In which month was the price of a barrel of oil the lowest in 2015? Options: March, May, July,December, Omit\n",
      "2. When was the average price of a pound of coffee beans at minimum? Options: April 2013, September 2013, June 2014, December 2014, Omit\n",
      "3. Over the course of years between 2009 and 2014, when was the number of girls named ‘Amelia’ at the maximum? Options: 2009, 2011, 2012, 2014, Omit\n",
      "\n",
      "Make Comparisons:\n",
      "\n",
      "1. About how much did the price of a barrel of oil fall from April to September in 2015? Options: $4, $15, $17, $45, Omit\n",
      "2. For how many months was the average price of a pound of coffee beans cheaper than that in December 2013? Options: 3 months, 4 months, 5 months, 6 months, Omit \n",
      "3. In the UK, the number of girls named ‘Amelia’ in 2014 was more than it was in 2013. Options: True, False, Omit\n",
      "4. Over the course of years between 2009 and 2014, the number of girls named ‘Isla’ was always more than ‘Olivia’. Options: True, False, Omit\n",
      "\n",
      "Retrieve Value:\n",
      "\n",
      "1. What was the price of a barrel of oil in February 2015? Options: $57.36, $47.82, $50.24, $39.72, Omit\n",
      "2. What was the average price of a pound of coffee beans in September 2013? Options: $4.9, $5.0, $5.1, $5.2, Omit\n",
      "3. What was the number of girls named ‘Amelia’ in 2010 in the UK? Options: 1,500, 3,800, 4,200, 8,000, Omit\n",
      "4. About what was the ratio of the number of girls named ‘Olivia’ to those named ‘Isla’ in 2014 in the UK? Options: 1 to 1, 1 to 2, 1 to 3, 1 to 4, Omit\n"
     ]
    }
   ],
   "source": [
    "# Group questions by their question type and format as a numbered list\n",
    "grouped = line_rows[['question', 'question_type']].drop_duplicates().groupby('question_type')\n",
    "\n",
    "for qtype, group in grouped:\n",
    "    print(f\"\\n{qtype}:\\n\")\n",
    "    for i, question in enumerate(group['question'].tolist(), 1): \n",
    "        print(f\"{i}. {question}\")"
   ]
  },
  {
   "cell_type": "markdown",
   "id": "95181c06",
   "metadata": {},
   "source": [
    "## 3: Generate line chart outputs"
   ]
  },
  {
   "cell_type": "code",
   "execution_count": 9,
   "id": "33327251",
   "metadata": {},
   "outputs": [
    {
     "name": "stdout",
     "output_type": "stream",
     "text": [
      "Processing group: Determine Range\n",
      "Processing group: Find Correlations/Trends\n",
      "Processing group: Find Extremum\n",
      "Processing group: Make Comparisons\n",
      "Processing group: Retrieve Value\n",
      "✅ All individual plots saved with black background and full question + answer title.\n"
     ]
    }
   ],
   "source": [
    "import pandas as pd\n",
    "import matplotlib.pyplot as plt\n",
    "from PIL import Image\n",
    "import os\n",
    "import shutil\n",
    "\n",
    "# === Setup paths ===\n",
    "base_path = \"/Users/ramihuunguyen/Downloads/osfstorage-archive/generated_plots\"\n",
    "base_save_dir = \"grouped_by_type\"\n",
    "\n",
    "# === Reset output folder ===\n",
    "if os.path.exists(base_save_dir):\n",
    "    shutil.rmtree(base_save_dir)\n",
    "os.makedirs(base_save_dir, exist_ok=True)\n",
    "\n",
    "# === Extract color columns ===\n",
    "color_cols = [col for col in line_rows.columns if col.startswith(\"color_\")]\n",
    "\n",
    "# === Get unique questions and their types ===\n",
    "questions_df = line_rows[['question', 'question_type']].drop_duplicates()\n",
    "\n",
    "# === Group questions by their type ===\n",
    "grouped = questions_df.groupby('question_type')\n",
    "\n",
    "# === Loop through each question type ===\n",
    "for qtype, group in grouped:\n",
    "    print(f\"Processing group: {qtype}\")\n",
    "\n",
    "    # Create subfolder for each question type\n",
    "    qtype_folder = os.path.join(base_save_dir, qtype.replace(\" \", \"_\"))\n",
    "    os.makedirs(qtype_folder, exist_ok=True)\n",
    "\n",
    "    for idx, row in group.iterrows():\n",
    "        question = row['question']\n",
    "\n",
    "        # Filter 40 rows for the current question\n",
    "        q_rows = line_rows[line_rows['question'] == question].copy()\n",
    "        q_rows['color_combo'] = q_rows[color_cols].apply(lambda r: tuple(r), axis=1)\n",
    "        unique_color_rows = q_rows.drop_duplicates(subset='color_combo')\n",
    "\n",
    "        for i, (_, img_row) in enumerate(unique_color_rows.iterrows()):\n",
    "            img_path = os.path.join(base_path, img_row['filename'])\n",
    "            try:\n",
    "                img = Image.open(img_path)\n",
    "\n",
    "                # Create a new figure for each image\n",
    "                fig, ax = plt.subplots(figsize=(12, 10), facecolor='black')\n",
    "                ax.imshow(img)\n",
    "                ax.set_title(\n",
    "                    f\"{qtype}\\n{question}\\nAnswer: {img_row['answer']}\",\n",
    "                    fontsize=12, color='white', wrap=True\n",
    "                )\n",
    "                ax.set_facecolor('black')\n",
    "                ax.axis('off')\n",
    "\n",
    "                # Save each individual plot\n",
    "                single_filename = f\"Q{idx+1}_img{i+1}.png\"\n",
    "                plt.savefig(\n",
    "                    os.path.join(qtype_folder, single_filename),\n",
    "                    bbox_inches='tight',\n",
    "                    dpi=600,\n",
    "                    facecolor=fig.get_facecolor()\n",
    "                )\n",
    "                plt.close()\n",
    "\n",
    "            except FileNotFoundError:\n",
    "                print(f\"❌ Image not found: {img_path}\")\n",
    "\n",
    "print(\"✅ All individual plots saved with black background and full question + answer title.\")\n"
   ]
  },
  {
   "cell_type": "markdown",
   "id": "9ba85e4b",
   "metadata": {},
   "source": [
    "# 4: Visualize charts by question types"
   ]
  },
  {
   "cell_type": "code",
   "execution_count": 13,
   "id": "0dc7e5f2",
   "metadata": {},
   "outputs": [
    {
     "ename": "TypeError",
     "evalue": "tight_layout() got an unexpected keyword argument 'dpi'",
     "output_type": "error",
     "traceback": [
      "\u001b[0;31m---------------------------------------------------------------------------\u001b[0m",
      "\u001b[0;31mTypeError\u001b[0m                                 Traceback (most recent call last)",
      "Cell \u001b[0;32mIn[13], line 24\u001b[0m\n\u001b[1;32m     21\u001b[0m     ax\u001b[38;5;241m.\u001b[39maxis(\u001b[38;5;124m'\u001b[39m\u001b[38;5;124moff\u001b[39m\u001b[38;5;124m'\u001b[39m)\n\u001b[1;32m     22\u001b[0m     ax\u001b[38;5;241m.\u001b[39mset_title(title, fontsize\u001b[38;5;241m=\u001b[39m\u001b[38;5;241m12\u001b[39m)\n\u001b[0;32m---> 24\u001b[0m \u001b[43mplt\u001b[49m\u001b[38;5;241;43m.\u001b[39;49m\u001b[43mtight_layout\u001b[49m\u001b[43m(\u001b[49m\u001b[43mdpi\u001b[49m\u001b[38;5;241;43m=\u001b[39;49m\u001b[38;5;241;43m600\u001b[39;49m\u001b[43m)\u001b[49m\n\u001b[1;32m     25\u001b[0m plt\u001b[38;5;241m.\u001b[39mshow()\n",
      "\u001b[0;31mTypeError\u001b[0m: tight_layout() got an unexpected keyword argument 'dpi'"
     ]
    },
    {
     "data": {
      "image/png": "[encoded data removed]",
      "text/plain": [
       "<Figure size 2000x500 with 2 Axes>"
      ]
     },
     "metadata": {},
     "output_type": "display_data"
    }
   ],
   "source": [
    "from PIL import Image\n",
    "import matplotlib.pyplot as plt\n",
    "\n",
    "# Define image paths and corresponding titles\n",
    "image_info = [\n",
    "    (\"Determine Range\", \"/Users/ramihuunguyen/Documents/PhD/Visualization_Literacy/grouped_by_type/Determine_Range/Q81_img1.png\"),\n",
    "    (\"Find Correlations\", \"/Users/ramihuunguyen/Documents/PhD/Visualization_Literacy/grouped_by_type/Find_Correlations/Trends/Q121_img1.png\"),\n",
    "    (\"Find Extremum\", \"/Users/ramihuunguyen/Documents/PhD/Visualization_Literacy/grouped_by_type/Find_Extremum/Q41_img1.png\"),\n",
    "    (\"Make Comparisons\", \"/Users/ramihuunguyen/Documents/PhD/Visualization_Literacy/grouped_by_type/Make_Comparisons/Q161_img1.png\"),\n",
    "    (\"Retrieve Value\", \"/Users/ramihuunguyen/Documents/PhD/Visualization_Literacy/grouped_by_type/Retrieve_Value/Q1_img1.png\")\n",
    "]\n",
    "\n",
    "# Create a figure with 5 subplots\n",
    "fig, axs = plt.subplots(1, 2, figsize=(20, 5))\n",
    "fig.patch.set_facecolor('black')\n",
    "\n",
    "# Loop through and display each image with title\n",
    "for ax, (title, path) in zip(axs, image_info):\n",
    "    img = Image.open(path)\n",
    "    ax.imshow(img)\n",
    "    ax.axis('off')\n",
    "    ax.set_title(title, fontsize=12)\n",
    "\n",
    "plt.tight_layout(dpi=600)\n",
    "plt.show()\n"
   ]
  },
  {
   "cell_type": "code",
   "execution_count": null,
   "id": "69c5af6e",
   "metadata": {},
   "outputs": [],
   "source": []
  }
 ],
 "metadata": {
  "kernelspec": {
   "display_name": "Python 3",
   "language": "python",
   "name": "python3"
  },
  "language_info": {
   "codemirror_mode": {
    "name": "ipython",
    "version": 3
   },
   "file_extension": ".py",
   "mimetype": "text/x-python",
   "name": "python",
   "nbconvert_exporter": "python",
   "pygments_lexer": "ipython3",
   "version": "3.9.6"
  }
 },
 "nbformat": 4,
 "nbformat_minor": 5
}
